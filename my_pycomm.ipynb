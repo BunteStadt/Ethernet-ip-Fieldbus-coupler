{
 "cells": [
  {
   "cell_type": "code",
   "execution_count": 1,
   "metadata": {},
   "outputs": [
    {
     "name": "stdout",
     "output_type": "stream",
     "text": [
      "Connected to: WAGO 750-366 EtherNet/IP, at IP: 192.168.1.33\n"
     ]
    }
   ],
   "source": [
    "from pycomm3 import CIPDriver\n",
    "ip = '192.168.1.33'\n",
    "\n",
    "#Test Connection\n",
    "try:\n",
    "    device_info=CIPDriver(ip).list_identity(ip)\n",
    "    if device_info:\n",
    "        print(f\"Connected to: {device_info['product_name']}, at IP: {ip}\")\n",
    "except Exception as e:\n",
    "    print(f\"Failed to connect to IP: {ip} , Error: {e}\" )"
   ]
  },
  {
   "cell_type": "code",
   "execution_count": 11,
   "metadata": {},
   "outputs": [
    {
     "name": "stdout",
     "output_type": "stream",
     "text": [
      "generic, b'\\x00', None, None\n",
      "b'\\x00'\n",
      "0000\n"
     ]
    }
   ],
   "source": [
    "# Read the current state of the Digital Outputs.\n",
    "with CIPDriver(ip) as wago:\n",
    "    response= wago.generic_message(\n",
    "        service=b'\\x0E', # GetSingleAttribute\n",
    "        class_code=4,\n",
    "        instance=101,\n",
    "        attribute=3,)\n",
    "\n",
    "    print(response)\n",
    "    print(response.value)\n",
    "    print(format(response.value[0], '04b')[-4:])"
   ]
  },
  {
   "cell_type": "code",
   "execution_count": 2,
   "metadata": {},
   "outputs": [
    {
     "name": "stdout",
     "output_type": "stream",
     "text": [
      "generic, b'', None, None\n",
      "b''\n"
     ]
    }
   ],
   "source": [
    "# Sets the state of digital Outputs\n",
    "# Change request Data\n",
    "# b'\\x00' - all on\n",
    "# b'\\x0F' - all off (or the other way around)\n",
    "\n",
    "with CIPDriver(ip) as wago:\n",
    "    response= wago.generic_message(\n",
    "        service=b'\\x10', # SetSingleAttribute\n",
    "        class_code=4,\n",
    "        instance=101,\n",
    "        attribute=3,\n",
    "        request_data=b'\\x03')\n",
    "\n",
    "    print(response)\n",
    "    print(response.value) # write attribute does not return anything. Use GetAttribute"
   ]
  }
 ],
 "metadata": {
  "kernelspec": {
   "display_name": "usr",
   "language": "python",
   "name": "python3"
  },
  "language_info": {
   "codemirror_mode": {
    "name": "ipython",
    "version": 3
   },
   "file_extension": ".py",
   "mimetype": "text/x-python",
   "name": "python",
   "nbconvert_exporter": "python",
   "pygments_lexer": "ipython3",
   "version": "3.10.12"
  }
 },
 "nbformat": 4,
 "nbformat_minor": 2
}
